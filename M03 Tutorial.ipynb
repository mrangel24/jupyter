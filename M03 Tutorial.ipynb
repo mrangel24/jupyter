{
 "cells": [
  {
   "cell_type": "code",
   "execution_count": 23,
   "id": "926a049c",
   "metadata": {},
   "outputs": [
    {
     "data": {
      "text/plain": [
       "4"
      ]
     },
     "execution_count": 23,
     "metadata": {},
     "output_type": "execute_result"
    }
   ],
   "source": [
    "class Solution:\n",
    "    def binarysearch(self, arr, n, k):\n",
    "    \n",
    "        start = 0 # initialize endpoints\n",
    "        end = n-1\n",
    "        \n",
    "        while start <= end: # determine K's position\n",
    "            mid = (start + end) // 2   \n",
    "            \n",
    "            if arr[mid] == k:\n",
    "                return mid\n",
    "            \n",
    "            elif arr[mid] < k:\n",
    "                start = mid + 1\n",
    "                \n",
    "            else:\n",
    "                end = mid - 1\n",
    "                \n",
    "        return None\n",
    "    \n",
    "solution = Solution()\n",
    "arr1 = [1, 2, 3, 4, 5]\n",
    "output = solution.binarysearch(arr1, 5, 5)\n",
    "output"
   ]
  },
  {
   "cell_type": "code",
   "execution_count": 26,
   "id": "a6954e98",
   "metadata": {},
   "outputs": [
    {
     "name": "stdout",
     "output_type": "stream",
     "text": [
      "[0, 0, 1, 2, 2] [0, 0, 1]\n"
     ]
    }
   ],
   "source": [
    "class Solution:\n",
    "    def sort012(self, arr, n):\n",
    "        count0, count1, count2 = 0, 0, 0 # counters set\n",
    "        \n",
    "        for num in arr: # count 0 1 2\n",
    "            if num == 0:\n",
    "                count0 += 1\n",
    "            elif num == 1:\n",
    "                count1 += 1\n",
    "            else:\n",
    "                count2 += 1\n",
    "        \n",
    "        i = 0\n",
    "        while count0 > 0: \n",
    "            arr[i] = 0\n",
    "            i += 1\n",
    "            count0 -= 1\n",
    "        \n",
    "        while count1 > 0:\n",
    "            arr[i] = 1\n",
    "            i += 1\n",
    "            count1 -= 1\n",
    "        \n",
    "        while count2 > 0:\n",
    "            arr[i] = 2\n",
    "            i += 1\n",
    "            count2 -= 1\n",
    "        \n",
    "        return arr\n",
    "\n",
    "solution = Solution()\n",
    "\n",
    "arr1 = [0, 2, 1, 2, 0]\n",
    "output1 = solution.sort012(arr1, len(arr1))\n",
    "\n",
    "arr2 = [0, 1, 0]\n",
    "output2 = solution.sort012(arr2, len(arr2))\n",
    "\n",
    "print(output1, output2)"
   ]
  },
  {
   "cell_type": "code",
   "execution_count": null,
   "id": "e9ab34cf",
   "metadata": {},
   "outputs": [],
   "source": []
  }
 ],
 "metadata": {
  "kernelspec": {
   "display_name": "Python 3 (ipykernel)",
   "language": "python",
   "name": "python3"
  },
  "language_info": {
   "codemirror_mode": {
    "name": "ipython",
    "version": 3
   },
   "file_extension": ".py",
   "mimetype": "text/x-python",
   "name": "python",
   "nbconvert_exporter": "python",
   "pygments_lexer": "ipython3",
   "version": "3.11.5"
  }
 },
 "nbformat": 4,
 "nbformat_minor": 5
}
