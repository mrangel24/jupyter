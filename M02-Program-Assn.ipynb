{
 "cells": [
  {
   "cell_type": "code",
   "execution_count": 2,
   "id": "a9c2b1a7",
   "metadata": {},
   "outputs": [
    {
     "name": "stdout",
     "output_type": "stream",
     "text": [
      "guess secret number between 1-10: 7\n",
      "hooray!\n"
     ]
    }
   ],
   "source": [
    "secret = 7\n",
    "guess = 0\n",
    "\n",
    "while guess != secret:\n",
    "    guess = int(input('guess secret number between 1-10: '))\n",
    "    if guess > secret:\n",
    "        print('too high')\n",
    "    elif guess < secret:\n",
    "        print('too low')\n",
    "    else:\n",
    "        print('hooray!')\n",
    "    \n"
   ]
  },
  {
   "cell_type": "code",
   "execution_count": 6,
   "id": "4e37301f",
   "metadata": {},
   "outputs": [
    {
     "name": "stdout",
     "output_type": "stream",
     "text": [
      "watermelon\n"
     ]
    }
   ],
   "source": [
    "small = False\n",
    "green = True\n",
    "\n",
    "if small:\n",
    "    if green:\n",
    "        print('pea') # small green\n",
    "    else:\n",
    "        print('cherry')# small not green\n",
    "else:\n",
    "    if green:\n",
    "        print('watermelon') # not small green\n",
    "    else:\n",
    "        print('pumpkin') # not small not green\n",
    "    "
   ]
  },
  {
   "cell_type": "code",
   "execution_count": 8,
   "id": "8ce57473",
   "metadata": {},
   "outputs": [
    {
     "name": "stdout",
     "output_type": "stream",
     "text": [
      "3\n",
      "2\n",
      "1\n",
      "0\n"
     ]
    }
   ],
   "source": [
    "for x in [3, 2, 1, 0]:\n",
    "    print(x)"
   ]
  },
  {
   "cell_type": "code",
   "execution_count": 9,
   "id": "c8a61fc3",
   "metadata": {},
   "outputs": [
    {
     "name": "stdout",
     "output_type": "stream",
     "text": [
      "guess secret number between 1-10: 8\n",
      "oops!\n",
      "guess secret number between 1-10: 6\n",
      "too low\n",
      "guess secret number between 1-10: 7\n",
      "found it!\n"
     ]
    }
   ],
   "source": [
    "secret = 7 \n",
    "guess = 0\n",
    "\n",
    "while guess != secret:\n",
    "    guess = int(input('guess secret number between 1-10: '))\n",
    "    if guess > secret:\n",
    "        print('oops!')\n",
    "    elif guess < secret:\n",
    "        print('too low')\n",
    "    else:\n",
    "        print('found it!')\n",
    "    \n"
   ]
  },
  {
   "cell_type": "code",
   "execution_count": 11,
   "id": "ac2be23e",
   "metadata": {},
   "outputs": [
    {
     "name": "stdout",
     "output_type": "stream",
     "text": [
      "too low\n",
      "too low\n",
      "too low\n",
      "too low\n",
      "too low\n",
      "found it!\n",
      "oops\n",
      "oops\n",
      "oops\n",
      "oops\n"
     ]
    }
   ],
   "source": [
    "guess_me = 5\n",
    "for number in range(10):\n",
    "    if number < guess_me:\n",
    "        print('too low')\n",
    "    elif number == guess_me:\n",
    "        print('found it!')\n",
    "    else:\n",
    "        print('oops')"
   ]
  },
  {
   "cell_type": "code",
   "execution_count": null,
   "id": "b2131640",
   "metadata": {},
   "outputs": [],
   "source": []
  }
 ],
 "metadata": {
  "kernelspec": {
   "display_name": "Python 3 (ipykernel)",
   "language": "python",
   "name": "python3"
  },
  "language_info": {
   "codemirror_mode": {
    "name": "ipython",
    "version": 3
   },
   "file_extension": ".py",
   "mimetype": "text/x-python",
   "name": "python",
   "nbconvert_exporter": "python",
   "pygments_lexer": "ipython3",
   "version": "3.11.5"
  }
 },
 "nbformat": 4,
 "nbformat_minor": 5
}
