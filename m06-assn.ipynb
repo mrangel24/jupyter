{
 "cells": [
  {
   "cell_type": "code",
   "execution_count": 8,
   "id": "8b44c169",
   "metadata": {},
   "outputs": [],
   "source": [
    "from datetime import datetime\n",
    "\n",
    "# Write current date to today.txt\n",
    "current_date = datetime.now().strftime(\"%Y-%m-%d\")\n",
    "with open('today.txt', 'w') as file:\n",
    "    file.write(current_date)\n"
   ]
  },
  {
   "cell_type": "code",
   "execution_count": 9,
   "id": "7c8e746d",
   "metadata": {},
   "outputs": [
    {
     "data": {
      "text/plain": [
       "'2023-12-04'"
      ]
     },
     "execution_count": 9,
     "metadata": {},
     "output_type": "execute_result"
    }
   ],
   "source": [
    "# Read content of today.txt\n",
    "with open('today.txt', 'r') as file:\n",
    "    today_string = file.read()\n",
    "\n",
    "today_string\n"
   ]
  },
  {
   "cell_type": "code",
   "execution_count": 10,
   "id": "83ba927d",
   "metadata": {},
   "outputs": [
    {
     "data": {
      "text/plain": [
       "datetime.datetime(2023, 12, 4, 0, 0)"
      ]
     },
     "execution_count": 10,
     "metadata": {},
     "output_type": "execute_result"
    }
   ],
   "source": [
    "# Parse date\n",
    "parsed_date = datetime.strptime(today_string, \"%Y-%m-%d\")\n",
    "parsed_date\n"
   ]
  },
  {
   "cell_type": "code",
   "execution_count": 16,
   "id": "992c1996",
   "metadata": {},
   "outputs": [],
   "source": [
    "from multiprocessing import Process\n",
    "import random\n",
    "import time\n",
    "\n",
    "def print_current_time():\n",
    "    # Wait random number of seconds between 0 and 1\n",
    "    time.sleep(random.random())\n",
    "    # Print current time\n",
    "    print(f\"Current Time: {datetime.now().strftime('%Y-%m-%d %H:%M:%S')}\")\n",
    "\n",
    "# Create three processes\n",
    "processes = []\n",
    "for _ in range(3):\n",
    "    p = Process(target=print_current_time)\n",
    "    processes.append(p)\n",
    "    p.start()\n",
    "\n",
    "# Wait for processes to complete\n",
    "for p in processes:\n",
    "    p.join()\n"
   ]
  },
  {
   "cell_type": "code",
   "execution_count": null,
   "id": "cb45532b",
   "metadata": {},
   "outputs": [],
   "source": []
  },
  {
   "cell_type": "code",
   "execution_count": null,
   "id": "103caacc",
   "metadata": {},
   "outputs": [],
   "source": []
  }
 ],
 "metadata": {
  "kernelspec": {
   "display_name": "Python 3 (ipykernel)",
   "language": "python",
   "name": "python3"
  },
  "language_info": {
   "codemirror_mode": {
    "name": "ipython",
    "version": 3
   },
   "file_extension": ".py",
   "mimetype": "text/x-python",
   "name": "python",
   "nbconvert_exporter": "python",
   "pygments_lexer": "ipython3",
   "version": "3.11.5"
  }
 },
 "nbformat": 4,
 "nbformat_minor": 5
}
