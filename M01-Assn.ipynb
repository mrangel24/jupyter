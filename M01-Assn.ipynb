{
 "cells": [
  {
   "cell_type": "code",
   "execution_count": 1,
   "id": "9a50a64a",
   "metadata": {},
   "outputs": [],
   "source": [
    "secondsInAnHour = 60 * 60"
   ]
  },
  {
   "cell_type": "code",
   "execution_count": 2,
   "id": "d025a159",
   "metadata": {},
   "outputs": [],
   "source": [
    "seconds_per_hour = secondsInAnHour"
   ]
  },
  {
   "cell_type": "code",
   "execution_count": 3,
   "id": "67d70235",
   "metadata": {},
   "outputs": [],
   "source": [
    "seconds_in_a_day = seconds_per_hour * 24"
   ]
  },
  {
   "cell_type": "code",
   "execution_count": 4,
   "id": "2e3554c1",
   "metadata": {},
   "outputs": [],
   "source": [
    "seconds_per_day = seconds_in_a_day"
   ]
  },
  {
   "cell_type": "code",
   "execution_count": 5,
   "id": "6bd689f5",
   "metadata": {},
   "outputs": [],
   "source": [
    "fp_division = seconds_per_day / seconds_per_hour"
   ]
  },
  {
   "cell_type": "code",
   "execution_count": 6,
   "id": "d277db91",
   "metadata": {},
   "outputs": [],
   "source": [
    "integer_division = seconds_per_day // seconds_per_hour"
   ]
  },
  {
   "cell_type": "code",
   "execution_count": 7,
   "id": "17d52c34",
   "metadata": {},
   "outputs": [
    {
     "data": {
      "text/plain": [
       "(3600, 86400, 24.0, 24)"
      ]
     },
     "execution_count": 7,
     "metadata": {},
     "output_type": "execute_result"
    }
   ],
   "source": [
    "secondsInAnHour, seconds_per_day, fp_division, integer_division"
   ]
  },
  {
   "cell_type": "code",
   "execution_count": null,
   "id": "935e9ca6",
   "metadata": {},
   "outputs": [],
   "source": []
  }
 ],
 "metadata": {
  "kernelspec": {
   "display_name": "Python 3 (ipykernel)",
   "language": "python",
   "name": "python3"
  },
  "language_info": {
   "codemirror_mode": {
    "name": "ipython",
    "version": 3
   },
   "file_extension": ".py",
   "mimetype": "text/x-python",
   "name": "python",
   "nbconvert_exporter": "python",
   "pygments_lexer": "ipython3",
   "version": "3.11.5"
  }
 },
 "nbformat": 4,
 "nbformat_minor": 5
}
